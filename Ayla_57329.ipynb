{
 "cells": [
  {
   "cell_type": "markdown",
   "id": "75690587-cf4d-4764-8a38-e482beb88d83",
   "metadata": {},
   "source": [
    "### Assignment 1: Primitive Types\n",
    "\n",
    "#### Table of Contents\n",
    "\n",
    "1. [Temperature Conversion](#temperature_conversion)\n",
    "2. [Login System](#login_system)\n",
    "3. [Student Information System](#student_information_system)\n",
    "4. [Book Reading Time](#book_reading_time)\n",
    "5. [Item Price Calculation](#item_price_calculation)\n",
    "6. [Rectangle Area Calculation](#rectangle_area_calculation)\n"
   ]
  },
  {
   "cell_type": "markdown",
   "id": "9e5799ec-9608-4cd3-aed5-99f9a67ebc4c",
   "metadata": {},
   "source": [
    "#### 1. Temperature Conversion <a id=\"temperature_conversion\"></a>\n"
   ]
  },
  {
   "cell_type": "code",
   "execution_count": 2,
   "id": "45a2a169-85a6-462a-9000-4ec0e0da0636",
   "metadata": {},
   "outputs": [
    {
     "name": "stdout",
     "output_type": "stream",
     "text": [
      "30°C is equal to 86.0°F\n"
     ]
    }
   ],
   "source": [
    "\n",
    "def celsius_to_fahrenheit(celsius):\n",
    "    fahrenheit = (9 / 5) * celsius + 32\n",
    "    return fahrenheit\n",
    "\n",
    "def fahrenheit_to_celsius(fahrenheit):\n",
    "    celsius = (fahrenheit - 32) * (5 / 9)\n",
    "    return celsius\n",
    "\n",
    "# Example usage:\n",
    "celsius_temp = 30\n",
    "fahrenheit_temp = celsius_to_fahrenheit(celsius_temp)\n",
    "print(f\"{celsius_temp}°C is equal to {fahrenheit_temp}°F\")\n"
   ]
  },
  {
   "cell_type": "markdown",
   "id": "38263619-30db-43b7-ba6e-a728e071a2eb",
   "metadata": {},
   "source": [
    "#### 2. Login System <a id=\"login_system\"></a>\n"
   ]
  },
  {
   "cell_type": "code",
   "execution_count": 3,
   "id": "217a5fd1-3ad3-4427-b988-cdcfbf6ebc1f",
   "metadata": {},
   "outputs": [],
   "source": [
    "\n",
    "is_admin = True\n"
   ]
  },
  {
   "cell_type": "markdown",
   "id": "92c27191-d1cb-4264-a7cc-5124502c6021",
   "metadata": {},
   "source": [
    "#### 3. Student Information System <a id=\"student_information_system\"></a>\n"
   ]
  },
  {
   "cell_type": "code",
   "execution_count": 4,
   "id": "7772c54c-b63b-481b-a9c8-8a9e9a54b466",
   "metadata": {},
   "outputs": [],
   "source": [
    "\n",
    "student_name = \"John Doe\"\n",
    "student_age = 20\n",
    "assignments_completed = False\n"
   ]
  },
  {
   "cell_type": "markdown",
   "id": "6e497daf-6f9d-41b1-b4d8-f531385e9cc3",
   "metadata": {},
   "source": [
    "#### 4. Book Reading Time <a id=\"book_reading_time\"></a>\n"
   ]
  },
  {
   "cell_type": "code",
   "execution_count": 5,
   "id": "6c746d30-1acc-4e91-859c-9fd6ec2c12d1",
   "metadata": {},
   "outputs": [
    {
     "name": "stdout",
     "output_type": "stream",
     "text": [
      "Number of pages: 200\n",
      "Reading time: 400 minutes\n"
     ]
    }
   ],
   "source": [
    "\n",
    "num_pages = 200\n",
    "reading_time = num_pages * 2  \n",
    "print(f\"Number of pages: {num_pages}\")\n",
    "print(f\"Reading time: {reading_time} minutes\")\n"
   ]
  },
  {
   "cell_type": "markdown",
   "id": "42a8eb34-9071-47c0-8c0d-b6bd61f5f271",
   "metadata": {},
   "source": [
    "#### 5. Item Price Calculation <a id=\"item_price_calculation\"></a>\n"
   ]
  },
  {
   "cell_type": "code",
   "execution_count": 6,
   "id": "a6967d1e-dcad-43ea-a864-c6a3edab0fcc",
   "metadata": {},
   "outputs": [
    {
     "name": "stdout",
     "output_type": "stream",
     "text": [
      "Original price: $100\n",
      "Discount: 10%\n",
      "Final price: $90.0\n"
     ]
    }
   ],
   "source": [
    "\n",
    "original_price = 100\n",
    "discount_percentage = 10\n",
    "discount_amount = (discount_percentage / 100) * original_price\n",
    "final_price = original_price - discount_amount\n",
    "print(f\"Original price: ${original_price}\")\n",
    "print(f\"Discount: {discount_percentage}%\")\n",
    "print(f\"Final price: ${final_price}\")\n"
   ]
  },
  {
   "cell_type": "markdown",
   "id": "08b4f1cc-ebed-4fc5-94b9-0229c9403a7d",
   "metadata": {},
   "source": [
    "#### 6. Rectangle Area Calculation <a id=\"rectangle_area_calculation\"></a>\n"
   ]
  },
  {
   "cell_type": "code",
   "execution_count": 7,
   "id": "156f61e9-1fab-4dd3-96a0-392a3634d403",
   "metadata": {},
   "outputs": [
    {
     "name": "stdout",
     "output_type": "stream",
     "text": [
      "The area of the rectangle is 15 square units.\n"
     ]
    }
   ],
   "source": [
    "\n",
    "length = 5\n",
    "width = 3\n",
    "\n",
    "area = length * width\n",
    "\n",
    "print(f\"The area of the rectangle is {area} square units.\")\n"
   ]
  }
 ],
 "metadata": {
  "kernelspec": {
   "display_name": "Python 3 (ipykernel)",
   "language": "python",
   "name": "python3"
  },
  "language_info": {
   "codemirror_mode": {
    "name": "ipython",
    "version": 3
   },
   "file_extension": ".py",
   "mimetype": "text/x-python",
   "name": "python",
   "nbconvert_exporter": "python",
   "pygments_lexer": "ipython3",
   "version": "3.12.2"
  }
 },
 "nbformat": 4,
 "nbformat_minor": 5
}
